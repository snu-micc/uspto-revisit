{
 "cells": [
  {
   "cell_type": "markdown",
   "id": "9aee5b8a",
   "metadata": {},
   "source": [
    "# Prompt engineering"
   ]
  },
  {
   "cell_type": "code",
   "execution_count": 1,
   "id": "f3738488",
   "metadata": {},
   "outputs": [],
   "source": [
    "import google.generativeai as genai\n",
    "\n",
    "api_key = 'your-api-key' # replace it with your own API key at https://ai.google.dev/\n",
    "genai.configure(api_key=api_key)\n",
    "\n",
    "# Set up the model\n",
    "generation_config = {\n",
    "  \"temperature\": 0.1,\n",
    "  \"top_p\": 1,\n",
    "  \"top_k\": 1,\n",
    "  \"max_output_tokens\": 2048,\n",
    "}\n",
    "\n",
    "safety_settings = [\n",
    "  {\n",
    "    \"category\": \"HARM_CATEGORY_HARASSMENT\",\n",
    "    \"threshold\": \"BLOCK_MEDIUM_AND_ABOVE\"\n",
    "  },\n",
    "  {\n",
    "    \"category\": \"HARM_CATEGORY_HATE_SPEECH\",\n",
    "    \"threshold\": \"BLOCK_MEDIUM_AND_ABOVE\"\n",
    "  },\n",
    "  {\n",
    "    \"category\": \"HARM_CATEGORY_SEXUALLY_EXPLICIT\",\n",
    "    \"threshold\": \"BLOCK_MEDIUM_AND_ABOVE\"\n",
    "  },\n",
    "  {\n",
    "    \"category\": \"HARM_CATEGORY_DANGEROUS_CONTENT\",\n",
    "    \"threshold\": \"BLOCK_MEDIUM_AND_ABOVE\"\n",
    "  },\n",
    "]\n",
    "\n",
    "model = genai.GenerativeModel(model_name=\"gemini-pro\",\n",
    "                              generation_config=generation_config,\n",
    "                              safety_settings=safety_settings)\n",
    "\n"
   ]
  },
  {
   "cell_type": "code",
   "execution_count": 2,
   "id": "25221057",
   "metadata": {},
   "outputs": [],
   "source": [
    "def get_response(heading, paragraph):\n",
    "\n",
    "    prompt_parts = [\n",
    "      '''\n",
    "      **Prompt:**\n",
    "\n",
    "      Given a chemical reaction title and a paragraph describing the reaction procedure, extract and organize the following information:\n",
    "      * Reactants, Solvents, and Catalysts: List all the reactants, solvents, and catalysts involved in the reaction, using their **standardized chemical names**. Assign an unique code (e.g., A, B, C, etc.) to each compound for easy reference in the next step.\n",
    "      * Reaction Steps: Simplify each step of the reaction procedure into a single string, using only the chemical names of the reactants and products.\n",
    "      * Known Product: Indicate the standardized name of the products with the known chemical name.\n",
    "      * Is there a clear molecule product?: Indicate whether the final product formed after the experiment is a single, well-defined molecule.\n",
    "      \n",
    "      **Additional Notes:**\n",
    "\n",
    "      * Make sure all the extracted molecules are used in the reaction steps and included in the reaction strings as code (only code and mixture are allowed in the reactions strings).\n",
    "      * Keep the reaction strings as simple as possible, only listing the chemical codes without any descriptors.\n",
    "      * If the reaction product is \\\"reaction mixture, organic phase, etc.\\\", write \\\"mixture\\\" in the product cell. If the mixture is used in the next step, put mixture in the reactant cell. Make sure all the reactant and product cells are filled.\n",
    "      * If there are multiple steps in the reaction procedure, number each step sequentially (e.g., Step 1, Step 2, etc.).\n",
    "      * Be aware that all reactions should follow the law of conservation of mass.\n",
    "      * The product at the last step should be consistent with the final product and not in the list of reactants.\n",
    "      * Please double check if all the extracted molecules are extracted with standardized name and presence in the reaction string.\n",
    "      \n",
    "      **Output Format:**\n",
    "\n",
    "      Please provide the reaction steps in a JSON format, as follows:\n",
    "      ```\n",
    "      {\n",
    "      \"Reactants, Solvents, and Catalysts\":\n",
    "       {\n",
    "       \"[Code]\": \"[standerdized molecule name without including any additional information such as \"saturated\", \"concentrated, \"solid\" or label]\"\n",
    "        }\n",
    "      \"Products\": \n",
    "      {\n",
    "      \"[Code]\": \"[standerdized molecule name without including any additional information such as \"saturated\", \"concentrated, \"solid\" or label]\"\n",
    "      },\n",
    "      \"Reaction steps\":\n",
    "       {\n",
    "       \"Step X: (Action ,Temperature, and Reaction Time)\": \"[Reactants]+[Reactants]->[Products]\"\n",
    "        },\n",
    "      \"Is there a clear molecule product?\": \"[True/False]\"\n",
    "      }\n",
    "      \n",
    "      **Example:**\n",
    "    \n",
    "      **Heading:** %s\n",
    "\n",
    "      **Paragraph:** %s\n",
    "      ''' % (heading, paragraph)\n",
    "    ]\n",
    "\n",
    "    response = model.generate_content(prompt_parts)\n",
    "    \n",
    "    try:\n",
    "        converted_response = eval(response.text.replace('\\n', '').replace('python', '')[3:-3])\n",
    "        return converted_response\n",
    "    except:\n",
    "        print ('failed to convert')\n",
    "        return response.text"
   ]
  },
  {
   "cell_type": "markdown",
   "id": "afcd8576",
   "metadata": {},
   "source": [
    "# Get response and make reaction strings"
   ]
  },
  {
   "cell_type": "code",
   "execution_count": 3,
   "id": "5ef64794",
   "metadata": {},
   "outputs": [
    {
     "name": "stdout",
     "output_type": "stream",
     "text": [
      "grants/2013 I20130430.xml\n"
     ]
    }
   ],
   "source": [
    "import xml.etree.ElementTree as ET\n",
    "import os\n",
    "\n",
    "#Calculate paragraph number in grants\n",
    "grant_path = 'grants'\n",
    "grant_list = os.listdir(grant_path)\n",
    "\n",
    " # Specify the path of XML file\n",
    "sum_grant = 0\n",
    "for year in grant_list:\n",
    "    temp_path = grant_path + '/' + year\n",
    "    grant_xml = os.listdir(temp_path)\n",
    "    for xml in grant_xml:\n",
    "        print (temp_path, xml)\n",
    "        break\n",
    "    break"
   ]
  },
  {
   "cell_type": "code",
   "execution_count": 4,
   "id": "0e0136ad",
   "metadata": {},
   "outputs": [
    {
     "name": "stdout",
     "output_type": "stream",
     "text": [
      "grants/2013/I20130430.xml\n",
      "2436\n"
     ]
    }
   ],
   "source": [
    "def extract_headings_paragraphs(xml_file):\n",
    "    # Parse the XML file\n",
    "    tree = ET.parse(xml_file)\n",
    "    root = tree.getroot()\n",
    "\n",
    "    # Define the namespace used in the XML\n",
    "    namespaces = {'dl': 'http://bitbucket.org/dan2097'}\n",
    "\n",
    "    # List to hold extracted data\n",
    "    extracted_data = []\n",
    "    all_sources = root.findall('.//dl:source', namespaces)\n",
    "    all_smiles = root.findall('.//dl:reactionSmiles', namespaces)\n",
    "    # Iterate through each 'source' element in the XML\n",
    "    for source, smiles in zip(all_sources, all_smiles):\n",
    "        # Find the heading and paragraph text within each 'source' element\n",
    "        documentId = source.find('dl:documentId', namespaces)\n",
    "        heading = source.find('dl:headingText', namespaces)\n",
    "        paragraph = source.find('dl:paragraphText', namespaces)\n",
    "\n",
    "        # Get the text content, if the element exists\n",
    "        documentId_text = documentId.text if documentId is not None else None\n",
    "        heading_text = heading.text.split('=')[-1] if heading is not None else None\n",
    "        paragraph_text = paragraph.text if paragraph is not None else None\n",
    "        smiles_text = smiles.text.split(' ')[0] if smiles is not None else None\n",
    "        \n",
    "        # Add the extracted information to the list\n",
    "        extracted_data.append({\n",
    "            'documentId': documentId_text,\n",
    "            'heading': heading_text, \n",
    "            'paragraph': paragraph_text, \n",
    "            'smiles': smiles_text}\n",
    "        )\n",
    "\n",
    "    return extracted_data\n",
    "\n",
    "# Path to your XML file\n",
    "file_path = temp_path + '/' + xml  # Replace with your file path\n",
    "print (file_path)\n",
    "# Extract the data\n",
    "extracted_data = extract_headings_paragraphs(file_path)\n",
    "print (len(extracted_data))"
   ]
  },
  {
   "cell_type": "code",
   "execution_count": 5,
   "id": "61db0801",
   "metadata": {},
   "outputs": [
    {
     "data": {
      "text/plain": [
       "{'documentId': 'USRE044186E1',\n",
       " 'heading': None,\n",
       " 'paragraph': 'L-pyroglutamic acid ethyl ester (200 g, 1.27 mol) was dissolved in 1.2 liters of methylene chloride and treated sequentially with di-tert-butyldicarbonate (297 g, 1.36 mol) and a catalytic DMAP (1.55 g, 0.013 mol) at ambient temperature. After 6 h, the mixture was quenched with saturated brine and the organic phase was dried (Na2SO4) and filtered through a short silica gel column to give 323 g (100%) of N-Boc- L-pyroglutamic acid ethyl ester. N-Boc-L-pyroglutamic acid ethyl ester (160 g, 0.62 mol) was dissolved in 1 liter of toluene, cooled to −78° C. and treated with lithium triethylborohydride (666 mL of a 1.0 M soln in THF) and added dropwise over 90 minutes. After 3 h, 2,6-lutidine (423 mL, 3.73 mol) was added dropwise followed by DMAP (0.2 g, 0.0016 mol). To this mixture was added TFAA (157 g, 0.74 mol) and the reaction was allowed to come to ambient temperature over 2 h. The mixture was diluted with EtOAc and water and the organics were washed with 3 N HCl, water, aqueous bicarbonate and brine and dried (Na2SO4) and filtered through a silica gel plug to give 165 g of the crude 4,5-dehydroproline ethyl ester that was purified by flash column chromatography on silica gel with 1:5 ethyl acetate:hexanes to give 120 g, 75% of the olefin.',\n",
       " 'smiles': '[CH2:1]([O:3][C:4](=[O:11])[C@@H:5]1[CH2:9][CH2:8][C:7](=[O:10])[NH:6]1)[CH3:2].[C:12]([O:16][C:17](O[C:17]([O:16][C:12]([CH3:15])([CH3:14])[CH3:13])=[O:18])=[O:18])([CH3:15])([CH3:14])[CH3:13]>C(Cl)Cl.CN(C1C=CN=CC=1)C>[CH2:1]([O:3][C:4](=[O:11])[C@@H:5]1[CH2:9][CH2:8][C:7](=[O:10])[N:6]1[C:17]([O:16][C:12]([CH3:15])([CH3:14])[CH3:13])=[O:18])[CH3:2]'}"
      ]
     },
     "execution_count": 5,
     "metadata": {},
     "output_type": "execute_result"
    }
   ],
   "source": [
    "i = 0\n",
    "data = extracted_data[i]\n",
    "data"
   ]
  },
  {
   "cell_type": "code",
   "execution_count": 6,
   "id": "c5da1a70",
   "metadata": {},
   "outputs": [
    {
     "data": {
      "text/plain": [
       "{'Reactants, Solvents, and Catalysts': {'A': 'L-pyroglutamic acid ethyl ester',\n",
       "  'B': 'methylene chloride',\n",
       "  'C': 'di-tert-butyldicarbonate',\n",
       "  'D': 'DMAP',\n",
       "  'E': 'saturated brine',\n",
       "  'F': 'Na2SO4',\n",
       "  'G': 'silica gel',\n",
       "  'H': 'toluene',\n",
       "  'I': 'lithium triethylborohydride',\n",
       "  'J': 'THF',\n",
       "  'K': '2,6-lutidine',\n",
       "  'L': 'TFAA',\n",
       "  'M': 'EtOAc',\n",
       "  'N': 'water',\n",
       "  'O': '3 N HCl',\n",
       "  'P': 'aqueous bicarbonate'},\n",
       " 'Products': {'Q': 'N-Boc- L-pyroglutamic acid ethyl ester',\n",
       "  'R': '4,5-dehydroproline ethyl ester'},\n",
       " 'Reaction steps': {'Step 1: (Dissolve, Ambient temperature)': 'A+B->mixture',\n",
       "  'Step 2: (Treat, Ambient temperature, 6 h)': 'mixture+C+D->Q',\n",
       "  'Step 3: (Quench, Ambient temperature)': 'Q+E->mixture',\n",
       "  'Step 4: (Dry, Ambient temperature)': 'mixture+F->Q',\n",
       "  'Step 5: (Filter, Ambient temperature)': 'Q+G->Q',\n",
       "  'Step 6: (Dissolve, -78° C)': 'Q+H->mixture',\n",
       "  'Step 7: (Treat, -78° C, 90 min)': 'mixture+I->mixture',\n",
       "  'Step 8: (Wait, -78° C, 3 h)': 'mixture->mixture',\n",
       "  'Step 9: (Treat, -78° C)': 'mixture+K+D->mixture',\n",
       "  'Step 10: (Treat, -78° C to Ambient temperature, 2 h)': 'mixture+L->mixture',\n",
       "  'Step 11: (Dilute, Ambient temperature)': 'mixture+M+N->mixture',\n",
       "  'Step 12: (Wash, Ambient temperature)': 'mixture+O+N+P+F->R',\n",
       "  'Step 13: (Filter, Ambient temperature)': 'R+G->R'},\n",
       " 'Is there a clear molecule product?': 'True'}"
      ]
     },
     "execution_count": 6,
     "metadata": {},
     "output_type": "execute_result"
    }
   ],
   "source": [
    "response = get_response(data['heading'], data['paragraph'])\n",
    "response"
   ]
  },
  {
   "cell_type": "code",
   "execution_count": 18,
   "id": "3974a79d",
   "metadata": {},
   "outputs": [
    {
     "name": "stdout",
     "output_type": "stream",
     "text": [
      "['4,5-dehydroproline ethyl ester']\n"
     ]
    },
    {
     "data": {
      "text/plain": [
       "{'A': 'CCOC(=O)[C@@H]1CCC(=O)N1',\n",
       " 'B': 'C(Cl)Cl',\n",
       " 'C': 'CC(C)(C)OC(=O)OC(=O)OC(C)(C)C',\n",
       " 'D': 'CN(C)C1=CC=NC=C1',\n",
       " 'E': 'O.[Na+].[Cl-]',\n",
       " 'F': '[O-]S(=O)(=O)[O-].[Na+].[Na+]',\n",
       " 'G': 'O=[Si]=O',\n",
       " 'H': 'CC1=CC=CC=C1',\n",
       " 'I': '[Li+].[B-](CC)(CC)CC',\n",
       " 'J': 'C1CCOC1',\n",
       " 'K': 'CC1=NC(=CC=C1)C',\n",
       " 'L': 'C(=O)(C(F)(F)F)OC(=O)C(F)(F)F',\n",
       " 'M': 'CCOC(=O)C',\n",
       " 'N': 'O',\n",
       " 'O': 'Cl',\n",
       " 'P': 'C(=O)(O)[O-]',\n",
       " 'Q': 'CCOC(=O)[C@@H]1CCC(=O)N1C(=O)OC(C)(C)C',\n",
       " 'R': '[4,5-dehydroproline ethyl ester (NoSmi)]'}"
      ]
     },
     "execution_count": 18,
     "metadata": {},
     "output_type": "execute_result"
    }
   ],
   "source": [
    "import requests\n",
    "\n",
    "\n",
    "def fix_name(compound_name):\n",
    "    solution_descriptors = ['saturated', 'aqueous', 'concentrated', 'solid', 'solution']\n",
    "    compound_name = ' '.join([n for n in compound_name.split(' ') if n[-1] != ')'])\n",
    "    compound_name = ' '.join([n for n in compound_name.split(' ') if n.lower() not in solution_descriptors and len(n) > 1])\n",
    "    if '- ' in compound_name:\n",
    "        compound_name = compound_name.replace('- ', '-')\n",
    "    if '  ' in compound_name:\n",
    "        compound_name = compound_name.replace('  ', ' ')\n",
    "    return compound_name\n",
    "        \n",
    "def get_smiles(compound_name):\n",
    "    url = f\"https://pubchem.ncbi.nlm.nih.gov/rest/pug/compound/name/{compound_name}/property/IsomericSMILES/JSON\"\n",
    "    response = requests.get(url)\n",
    "    if response.status_code == 200:\n",
    "        data = response.json()\n",
    "        smiles = data['PropertyTable']['Properties'][0]['IsomericSMILES']\n",
    "        return smiles\n",
    "    else:\n",
    "        return \"Error: Unable to fetch data\"\n",
    "\n",
    "def get_smiles_dict(response):\n",
    "    smiles_dict = {}\n",
    "    problem_chemicals = []\n",
    "    for code, compound_name in response['Reactants, Solvents, and Catalysts'].items():\n",
    "        compound_name = fix_name(compound_name)\n",
    "        smiles = get_smiles(compound_name)\n",
    "        if smiles == \"Error: Unable to fetch data\":\n",
    "            problem_chemicals.append(compound_name)\n",
    "            smiles_dict[code] = '[%s (NoSmi)]' % compound_name\n",
    "        else:\n",
    "            smiles_dict[code] = smiles\n",
    "\n",
    "    for code, compound_name in response['Products'].items():\n",
    "        compound_name = fix_name(compound_name)\n",
    "        smiles = get_smiles(compound_name)\n",
    "        if smiles == \"Error: Unable to fetch data\":\n",
    "            problem_chemicals.append(compound_name)\n",
    "            smiles_dict[code] = '[%s (NoSmi)]' % compound_name\n",
    "        else:\n",
    "            smiles_dict[code] = smiles\n",
    "            \n",
    "    if len(problem_chemicals) > 0:\n",
    "        print (problem_chemicals)\n",
    "    return smiles_dict\n",
    "\n",
    "smiles_dict = get_smiles_dict(response)\n",
    "smiles_dict"
   ]
  },
  {
   "cell_type": "code",
   "execution_count": 19,
   "id": "7781a27c",
   "metadata": {},
   "outputs": [
    {
     "data": {
      "text/plain": [
       "{'Step 1: (Dissolve, Ambient temperature)': 'A+B->mixture',\n",
       " 'Step 2: (Treat, Ambient temperature, 6 h)': 'mixture+C+D->Q',\n",
       " 'Step 3: (Quench, Ambient temperature)': 'Q+E->mixture',\n",
       " 'Step 4: (Dry, Ambient temperature)': 'mixture+F->Q',\n",
       " 'Step 5: (Filter, Ambient temperature)': 'Q+G->Q',\n",
       " 'Step 6: (Dissolve, -78° C)': 'Q+H->mixture',\n",
       " 'Step 7: (Treat, -78° C, 90 min)': 'mixture+I->mixture',\n",
       " 'Step 8: (Wait, -78° C, 3 h)': 'mixture->mixture',\n",
       " 'Step 9: (Treat, -78° C)': 'mixture+K+D->mixture',\n",
       " 'Step 10: (Treat, -78° C to Ambient temperature, 2 h)': 'mixture+L->mixture',\n",
       " 'Step 11: (Dilute, Ambient temperature)': 'mixture+M+N->mixture',\n",
       " 'Step 12: (Wash, Ambient temperature)': 'mixture+O+N+P+F->R',\n",
       " 'Step 13: (Filter, Ambient temperature)': 'R+G->R'}"
      ]
     },
     "execution_count": 19,
     "metadata": {},
     "output_type": "execute_result"
    }
   ],
   "source": [
    "response['Reaction steps']"
   ]
  },
  {
   "cell_type": "code",
   "execution_count": 20,
   "id": "b9c15fbc",
   "metadata": {},
   "outputs": [
    {
     "data": {
      "text/plain": [
       "['CC(C)(C)OC(=O)OC(=O)OC(C)(C)C.CN(C)C1=CC=NC=C1.CCOC(=O)[C@@H]1CCC(=O)N1.C(Cl)Cl>>CCOC(=O)[C@@H]1CCC(=O)N1C(=O)OC(C)(C)C',\n",
       " 'C(=O)(C(F)(F)F)OC(=O)C(F)(F)F.CC1=NC(=CC=C1)C.CN(C)C1=CC=NC=C1.[Li+].[B-](CC)(CC)CC.CC1=CC=CC=C1>>[4,5-dehydroproline ethyl ester (NoSmi)]']"
      ]
     },
     "execution_count": 20,
     "metadata": {},
     "output_type": "execute_result"
    }
   ],
   "source": [
    "heat_cool = ['Heat', 'Cool']\n",
    "purification_procedure = ['Purif', 'Dilut', 'Quench', 'Wash', 'Extract', 'Chromat', 'Dry', 'Filter']\n",
    "change_env = ['Adjust']\n",
    "\n",
    "def get_rxn_smiles(response, smiles_dict):\n",
    "    rxn_strings = []\n",
    "    reactant_set = set()\n",
    "    product_set = set()\n",
    "    smiles_dict['mixture'] = 'mixture'\n",
    "    for step, rxn in response['Reaction steps'].items():\n",
    "        if sum([procedure in step for procedure in purification_procedure]) == 0 and sum([procedure in step for procedure in change_env]) == 0:\n",
    "            if rxn != 'mixture->mixture':\n",
    "                reactants, products = rxn.split('->')\n",
    "                reactant_set.update([smiles_dict[code] for code in reactants.split('+')])\n",
    "                product_set.update([smiles_dict[code] for code in products.split('+')])\n",
    "                \n",
    "        elif len(reactant_set) > 0 and len(product_set) > 0:\n",
    "            reactant_list = [smiles for smiles in reactant_set if smiles == 'mixture' or smiles not in product_set]\n",
    "            product_list = [smiles for smiles in product_set]\n",
    "            if len(rxn_strings) == 0:\n",
    "                reactants_string = '.'.join([smiles for smiles in reactant_list if smiles != 'mixture'])\n",
    "            else:\n",
    "                reactants_string = '.'.join(reactant_list)\n",
    "                \n",
    "            if len(product_list) > 1:\n",
    "                product_string = '.'.join([smiles for smiles in product_list if smiles != 'mixture'])\n",
    "                smiles_dict['mixture'] = product_string\n",
    "            else:\n",
    "                product_string = '.'.join(product_list)\n",
    "\n",
    "            rxn_string = reactants_string + '>>' + product_string\n",
    "            rxn_strings.append(rxn_string)\n",
    "            reactant_set = set()\n",
    "            product_set = set()\n",
    "            \n",
    "        if sum([procedure in step for procedure in change_env]) > 0:\n",
    "            if rxn != 'mixture->mixture':\n",
    "                reactants, products = rxn.split('->')\n",
    "                reactant_set.update([smiles_dict[code] for code in reactants.split('+')])\n",
    "                product_set.update([smiles_dict[code] for code in products.split('+')])\n",
    "            \n",
    "    if len(rxn_strings) == 0:\n",
    "        reactant_list = [smiles for smiles in reactant_set if smiles not in product_set]\n",
    "        product_list = [smiles for smiles in product_set]\n",
    "        reactants_string = '.'.join([smiles for smiles in reactant_list if smiles != 'mixture'])\n",
    "        if len(product_set) > 0:\n",
    "            product_string = '.'.join([smiles for smiles in product_list if smiles != 'mixture'])\n",
    "            smiles_dict['mixture'] = product_string\n",
    "        else:\n",
    "            product_string = '.'.join(product_list)\n",
    "        rxn_string = reactants_string + '>>' + product_string\n",
    "        rxn_strings.append(rxn_string)\n",
    "        \n",
    "    final_product = smiles_dict[rxn.split('->')[-1]]\n",
    "#     # if the product is not found in extracted response, use Lowe's product\n",
    "#     if  '(NoSmi)' in final_product or final_product == 'mixture':\n",
    "#         final_product = data['smiles'].split('>')[-1]\n",
    "        \n",
    "    last_reactant, last_product = rxn_strings[-1].split('>>')\n",
    "    rxn_strings[-1] = last_reactant + '>>' + final_product\n",
    "    \n",
    "    return rxn_strings\n",
    "\n",
    "extracted_rxn_strings = get_rxn_smiles(response, smiles_dict)\n",
    "extracted_rxn_strings"
   ]
  },
  {
   "cell_type": "markdown",
   "id": "2ce5978e",
   "metadata": {},
   "source": [
    "# Compare with Lowe's reaction"
   ]
  },
  {
   "cell_type": "code",
   "execution_count": 21,
   "id": "a104dc21",
   "metadata": {},
   "outputs": [
    {
     "name": "stderr",
     "output_type": "stream",
     "text": [
      "[20:02:14] SMILES Parse Error: syntax error while parsing: [4,5-dehydroproline\n",
      "[20:02:14] SMILES Parse Error: Failed parsing SMILES '[4,5-dehydroproline' for input: '[4,5-dehydroproline'\n"
     ]
    },
    {
     "data": {
      "image/png": "[encoded data removed]",
      "text/plain": [
       "<IPython.core.display.Image object>"
      ]
     },
     "execution_count": 21,
     "metadata": {},
     "output_type": "execute_result"
    }
   ],
   "source": [
    "from rdkit import Chem\n",
    "\n",
    "lowe_smiles = data['smiles']\n",
    "see_rxns = '>'.join([lowe_smiles] + extracted_rxn_strings)\n",
    "Chem.Draw.MolsToGridImage([Chem.MolFromSmiles(s) for s in see_rxns.split('>')])"
   ]
  },
  {
   "cell_type": "code",
   "execution_count": null,
   "id": "7d5f608c",
   "metadata": {},
   "outputs": [],
   "source": []
  }
 ],
 "metadata": {
  "kernelspec": {
   "display_name": "Python 3 (ipykernel)",
   "language": "python",
   "name": "python3"
  },
  "language_info": {
   "codemirror_mode": {
    "name": "ipython",
    "version": 3
   },
   "file_extension": ".py",
   "mimetype": "text/x-python",
   "name": "python",
   "nbconvert_exporter": "python",
   "pygments_lexer": "ipython3",
   "version": "3.9.7"
  }
 },
 "nbformat": 4,
 "nbformat_minor": 5
}
